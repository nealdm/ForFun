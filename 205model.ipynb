{
 "cells": [
  {
   "cell_type": "code",
   "execution_count": 17,
   "metadata": {},
   "outputs": [],
   "source": [
    "class cell:\n",
    "    def __init__(self):\n",
    "        self.dendrites = []\n",
    "        self.axon = []\n",
    "        \n",
    "    def add_dendrite(self,d):\n",
    "        self.dendrites.append(d)\n",
    "    \n",
    "    def remove_dendrite(self,d):\n",
    "        self.dendrites.remove(d)\n",
    "        \n",
    "    def add_axon(self,a):\n",
    "        self.axon.append(a)\n",
    "        \n",
    "    def remove_axon(self,a):\n",
    "        self.axon.remove(a)\n",
    "\n",
    "class dendrite:\n",
    "    def __init__(self):\n",
    "        '''\n",
    "        neuroreceptors represents the possible neuroreceptors, \n",
    "        nrexpressed is an array represents the number (comparitively) of receptors expresssed from that particular neurotransmitter\n",
    "        example: neuroreceptors = [a,b,c,d,e]\n",
    "                 nrexpressed = [5,15,2,0,1]\n",
    "        inh_nrs is a list of the inhibitory receptors\n",
    "        exc_nrs is a list of the excitatory receptors\n",
    "        remembered states is a list of nrexpressed lists as remembered in a particular moment\n",
    "        voltage is the voltage of the dendrite at the given moment.  resting membrane voltage is assumed to be 0 instead of -65.\n",
    "                 \n",
    "        '''\n",
    "        self.neuroreceptors = []\n",
    "        self.nrexpressed = []\n",
    "        self.inh_nrs = []\n",
    "        self.exc_nrs = []\n",
    "        self.remembered_states = []\n",
    "        self.voltage = 0\n",
    "        \n",
    "    def upregulate(self, nt):\n",
    "        '''upregulates the given neurotransmitter by one'''\n",
    "        ntindex = neuroreceptors.index(nt)\n",
    "        self.nrexpressed[ntindex] += 1\n",
    "        \n",
    "    def downregulate(self, nt):\n",
    "        '''Downregulates the given neurotransmitter by one'''\n",
    "        ntindex = neuroreceptors.index(nt)\n",
    "        self.nrexpressed[ntindex] -= 1\n",
    "        \n",
    "    def rememberstate(self):\n",
    "        '''remembers the state of the nrexpressessed list'''\n",
    "        self.remembered_states.append(self.nrexpressed)\n",
    "        \n",
    "    def memoryexpress(self):\n",
    "        '''switches the expressed neuroreceptors to those that had been previously 'remembered'- \n",
    "        this is less biologically accurate, but interesting'''\n",
    "        \n",
    "    def add_ntr(self,nt,nt_type):\n",
    "        '''adds a neurotransmitter receptor\n",
    "        nt is the name of the neurotransmitter\n",
    "        nt_type is either excitatory or inhibitory.  If it is excitatory, more of it will 'depolarize' the cell \n",
    "                                                  (recall the RMP for the cell is assumed to be 0 instead of -65 \n",
    "                                                  as in real life)\n",
    "        returns True if successful\n",
    "        returns False otherwise\n",
    "                                                  \n",
    "        '''\n",
    "        if nt_type != \"excitatory\" and nt_type != \"inhibitory\":\n",
    "            raise ValueError(\"nt_type must be 'excitatory' or 'inhibitory'\")\n",
    "            return False\n",
    "        if nt in self.neuroreceptors:\n",
    "            raise ValueError(\"That neurotransmitter is already in this dendrite\")\n",
    "            return False\n",
    "        else:\n",
    "            # add the neurotransmitter to the list and to the typeslist\n",
    "            self.neuroreceptors.append(nt)\n",
    "            self.nrexpressed.append(0)\n",
    "            if nt_type == \"excitatory\":\n",
    "                self.exc_nrs.append(nt)\n",
    "            elif nt_typem == \"inhibitory\":\n",
    "                self.inh_nrs.append(nt)\n",
    "                \n",
    "            # we need to take care of making sure the things in memory are as long as they need to be\n",
    "            # inscase memoryexpress is called\n",
    "            for state_list in self.remembered_states:\n",
    "                state_list.append(0)\n",
    "            return True    \n",
    "                \n",
    "    def pass_time(self):\n",
    "        '''simulates the passing of time.  In other words, the voltage gets a little cloer to zero'''\n",
    "        # TODO\n",
    "        return\n",
    "        \n",
    "        \n",
    "        \n",
    "    def voltage(self):\n",
    "        '''returns the voltage of that dendrite at that particular time'''\n",
    "        return self.voltage\n",
    "        "
   ]
  },
  {
   "cell_type": "code",
   "execution_count": 18,
   "metadata": {
    "collapsed": true,
    "scrolled": true
   },
   "outputs": [],
   "source": [
    "a = [1,2,3,'c','33']"
   ]
  },
  {
   "cell_type": "code",
   "execution_count": 19,
   "metadata": {},
   "outputs": [
    {
     "data": {
      "text/plain": [
       "4"
      ]
     },
     "execution_count": 19,
     "metadata": {},
     "output_type": "execute_result"
    }
   ],
   "source": [
    "b = a.index('33')\n",
    "b"
   ]
  },
  {
   "cell_type": "code",
   "execution_count": 20,
   "metadata": {},
   "outputs": [
    {
     "data": {
      "text/plain": [
       "['happy']"
      ]
     },
     "execution_count": 20,
     "metadata": {},
     "output_type": "execute_result"
    }
   ],
   "source": [
    "d = dendrite()\n",
    "d.add_ntr(\"happy\",'excitatory')\n",
    "d.neuroreceptors"
   ]
  },
  {
   "cell_type": "code",
   "execution_count": 21,
   "metadata": {},
   "outputs": [
    {
     "data": {
      "text/plain": [
       "0"
      ]
     },
     "execution_count": 21,
     "metadata": {},
     "output_type": "execute_result"
    }
   ],
   "source": [
    "d.voltage"
   ]
  },
  {
   "cell_type": "code",
   "execution_count": 22,
   "metadata": {},
   "outputs": [
    {
     "data": {
      "text/plain": [
       "[0]"
      ]
     },
     "execution_count": 22,
     "metadata": {},
     "output_type": "execute_result"
    }
   ],
   "source": [
    "d.nrexpressed"
   ]
  },
  {
   "cell_type": "code",
   "execution_count": null,
   "metadata": {
    "collapsed": true
   },
   "outputs": [],
   "source": []
  }
 ],
 "metadata": {
  "kernelspec": {
   "display_name": "Python 3",
   "language": "python",
   "name": "python3"
  },
  "language_info": {
   "codemirror_mode": {
    "name": "ipython",
    "version": 3
   },
   "file_extension": ".py",
   "mimetype": "text/x-python",
   "name": "python",
   "nbconvert_exporter": "python",
   "pygments_lexer": "ipython3",
   "version": "3.6.1"
  }
 },
 "nbformat": 4,
 "nbformat_minor": 2
}
