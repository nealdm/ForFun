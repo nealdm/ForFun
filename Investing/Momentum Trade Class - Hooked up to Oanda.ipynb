{
 "cells": [
  {
   "cell_type": "code",
   "execution_count": 1,
   "metadata": {},
   "outputs": [
    {
     "ename": "ModuleNotFoundError",
     "evalue": "No module named 'oandapy'",
     "output_type": "error",
     "traceback": [
      "\u001b[1;31m---------------------------------------------------------------------------\u001b[0m",
      "\u001b[1;31mModuleNotFoundError\u001b[0m                       Traceback (most recent call last)",
      "\u001b[1;32m<ipython-input-1-e15331374d98>\u001b[0m in \u001b[0;36m<module>\u001b[1;34m()\u001b[0m\n\u001b[0;32m      4\u001b[0m \u001b[1;32mfrom\u001b[0m \u001b[0mmatplotlib\u001b[0m \u001b[1;32mimport\u001b[0m \u001b[0mpyplot\u001b[0m \u001b[1;32mas\u001b[0m \u001b[0mplt\u001b[0m\u001b[1;33m\u001b[0m\u001b[0m\n\u001b[0;32m      5\u001b[0m \u001b[1;32mimport\u001b[0m \u001b[0mpandas\u001b[0m \u001b[1;32mas\u001b[0m \u001b[0mpd\u001b[0m\u001b[1;33m\u001b[0m\u001b[0m\n\u001b[1;32m----> 6\u001b[1;33m \u001b[1;32mimport\u001b[0m \u001b[0moandapy\u001b[0m\u001b[1;33m\u001b[0m\u001b[0m\n\u001b[0m\u001b[0;32m      7\u001b[0m \u001b[1;33m\u001b[0m\u001b[0m\n\u001b[0;32m      8\u001b[0m \u001b[1;32mimport\u001b[0m \u001b[0mconfigparser\u001b[0m\u001b[1;33m\u001b[0m\u001b[0m\n",
      "\u001b[1;31mModuleNotFoundError\u001b[0m: No module named 'oandapy'"
     ]
    }
   ],
   "source": [
    "# Copied most of this from https://www.oreilly.com/learning/algorithmic-trading-in-less-than-100-lines-of-python-code\n",
    "\n",
    "import numpy as np\n",
    "from matplotlib import pyplot as plt\n",
    "import pandas as pd\n",
    "import oandapy\n",
    "\n",
    "import configparser \n",
    "import oandapy as opy\n",
    "\n",
    "%matplotlib inline\n",
    "import seaborn as sns; sns.set()\n",
    "\n",
    "import torch"
   ]
  },
  {
   "cell_type": "code",
   "execution_count": 3,
   "metadata": {
    "collapsed": true
   },
   "outputs": [],
   "source": [
    "def increase_by_percent(number,percent):\n",
    "    return number + number*percent\n"
   ]
  },
  {
   "cell_type": "code",
   "execution_count": 4,
   "metadata": {},
   "outputs": [
    {
     "name": "stdout",
     "output_type": "stream",
     "text": [
      "1061.5826913463884\n"
     ]
    }
   ],
   "source": [
    "start = 1\n",
    "tithes = 0\n",
    "for i in range(365):\n",
    "    y = 0\n",
    "    if i%7 == 0:\n",
    "        y = start*.005\n",
    "    tithes += y\n",
    "    start=increase_by_percent(start,.02)-y\n",
    "print(start)"
   ]
  },
  {
   "cell_type": "code",
   "execution_count": 5,
   "metadata": {
    "collapsed": true
   },
   "outputs": [],
   "source": [
    "# check this out for news driven investing\n",
    "#   https://arxiv.org/pdf/1807.06824.pdf"
   ]
  },
  {
   "cell_type": "code",
   "execution_count": 46,
   "metadata": {
    "collapsed": true
   },
   "outputs": [],
   "source": [
    "config = configparser.ConfigParser()  # 3\n",
    "config.read('oanda.cfg')  # 4\n",
    "\n",
    "oanda = opy.API(environment='practice', access_token=config['oanda']['access_token'])"
   ]
  },
  {
   "cell_type": "code",
   "execution_count": 48,
   "metadata": {
    "scrolled": true
   },
   "outputs": [
    {
     "name": "stdout",
     "output_type": "stream",
     "text": [
      "<class 'pandas.core.frame.DataFrame'>\n",
      "DatetimeIndex: 2658 entries, 2016-12-08 00:00:00 to 2016-12-09 21:59:00\n",
      "Data columns (total 10 columns):\n",
      "closeAsk    2658 non-null float64\n",
      "closeBid    2658 non-null float64\n",
      "complete    2658 non-null bool\n",
      "highAsk     2658 non-null float64\n",
      "highBid     2658 non-null float64\n",
      "lowAsk      2658 non-null float64\n",
      "lowBid      2658 non-null float64\n",
      "openAsk     2658 non-null float64\n",
      "openBid     2658 non-null float64\n",
      "volume      2658 non-null int64\n",
      "dtypes: bool(1), float64(8), int64(1)\n",
      "memory usage: 210.3 KB\n"
     ]
    }
   ],
   "source": [
    "data = oanda.get_history(instrument='EUR_USD',  # our instrument\n",
    "                         start = '2016-12-08',  # start data\n",
    "                         end='2016-12-10',      # end date\n",
    "                         granularity='M1')      # minute bars  \n",
    "\n",
    "df = pd.DataFrame(data['candles']).set_index('time')\n",
    "\n",
    "df.index = pd.DatetimeIndex(df.index)\n",
    "\n",
    "df.info()"
   ]
  },
  {
   "cell_type": "code",
   "execution_count": 68,
   "metadata": {},
   "outputs": [
    {
     "name": "stderr",
     "output_type": "stream",
     "text": [
      "C:\\Users\\munso\\Anaconda3.1\\lib\\site-packages\\ipykernel_launcher.py:7: RuntimeWarning: invalid value encountered in sign\n",
      "  import sys\n"
     ]
    }
   ],
   "source": [
    "df['returns'] = np.log(df['closeAsk'] / df['closeAsk'].shift(1))\n",
    "\n",
    "cols = [] \n",
    "\n",
    "for momentum in [15, 30, 60, 120]: \n",
    "    col = 'position_%s' % momentum  \n",
    "    df[col] = np.sign(df['returns'].rolling(momentum).mean())  \n",
    "    cols.append(col)  "
   ]
  },
  {
   "cell_type": "code",
   "execution_count": 69,
   "metadata": {},
   "outputs": [
    {
     "data": {
      "text/plain": [
       "['position_15', 'position_30', 'position_60', 'position_120']"
      ]
     },
     "execution_count": 69,
     "metadata": {},
     "output_type": "execute_result"
    }
   ],
   "source": [
    "cols"
   ]
  },
  {
   "cell_type": "code",
   "execution_count": 78,
   "metadata": {},
   "outputs": [
    {
     "data": {
      "text/plain": [
       "time\n",
       "2016-12-08 00:00:00    NaN\n",
       "2016-12-08 00:01:00    NaN\n",
       "2016-12-08 00:02:00    NaN\n",
       "2016-12-08 00:03:00    NaN\n",
       "2016-12-08 00:04:00    NaN\n",
       "2016-12-08 00:05:00    NaN\n",
       "2016-12-08 00:06:00    NaN\n",
       "2016-12-08 00:07:00    NaN\n",
       "2016-12-08 00:08:00    NaN\n",
       "2016-12-08 00:09:00    NaN\n",
       "2016-12-08 00:10:00    NaN\n",
       "2016-12-08 00:11:00    NaN\n",
       "2016-12-08 00:12:00    NaN\n",
       "2016-12-08 00:13:00    NaN\n",
       "2016-12-08 00:14:00    NaN\n",
       "2016-12-08 00:17:00    1.0\n",
       "2016-12-08 00:18:00    1.0\n",
       "2016-12-08 00:19:00    1.0\n",
       "2016-12-08 00:20:00    1.0\n",
       "2016-12-08 00:21:00    1.0\n",
       "2016-12-08 00:23:00   -1.0\n",
       "2016-12-08 00:24:00   -1.0\n",
       "2016-12-08 00:25:00   -1.0\n",
       "2016-12-08 00:26:00   -1.0\n",
       "2016-12-08 00:27:00   -1.0\n",
       "2016-12-08 00:29:00   -1.0\n",
       "2016-12-08 00:31:00   -1.0\n",
       "2016-12-08 00:32:00   -1.0\n",
       "2016-12-08 00:33:00   -1.0\n",
       "2016-12-08 00:35:00    1.0\n",
       "                      ... \n",
       "2016-12-08 01:38:00    1.0\n",
       "2016-12-08 01:39:00    1.0\n",
       "2016-12-08 01:40:00    1.0\n",
       "2016-12-08 01:41:00    1.0\n",
       "2016-12-08 01:42:00    1.0\n",
       "2016-12-08 01:43:00    1.0\n",
       "2016-12-08 01:44:00    1.0\n",
       "2016-12-08 01:45:00    1.0\n",
       "2016-12-08 01:46:00    1.0\n",
       "2016-12-08 01:47:00    1.0\n",
       "2016-12-08 01:49:00    1.0\n",
       "2016-12-08 01:50:00    1.0\n",
       "2016-12-08 01:51:00    1.0\n",
       "2016-12-08 01:52:00    1.0\n",
       "2016-12-08 01:53:00    1.0\n",
       "2016-12-08 01:54:00    1.0\n",
       "2016-12-08 01:55:00    1.0\n",
       "2016-12-08 01:56:00    1.0\n",
       "2016-12-08 01:57:00    1.0\n",
       "2016-12-08 01:58:00    1.0\n",
       "2016-12-08 02:01:00    1.0\n",
       "2016-12-08 02:02:00    1.0\n",
       "2016-12-08 02:03:00    1.0\n",
       "2016-12-08 02:04:00    1.0\n",
       "2016-12-08 02:05:00    1.0\n",
       "2016-12-08 02:06:00    1.0\n",
       "2016-12-08 02:07:00    1.0\n",
       "2016-12-08 02:08:00    1.0\n",
       "2016-12-08 02:09:00    1.0\n",
       "2016-12-08 02:11:00    1.0\n",
       "Name: position_15, Length: 120, dtype: float64"
      ]
     },
     "execution_count": 78,
     "metadata": {},
     "output_type": "execute_result"
    }
   ],
   "source": [
    "df[cols[0]][:120]"
   ]
  },
  {
   "cell_type": "code",
   "execution_count": 81,
   "metadata": {},
   "outputs": [
    {
     "data": {
      "text/plain": [
       "<matplotlib.axes._subplots.AxesSubplot at 0x1d4858192e8>"
      ]
     },
     "execution_count": 81,
     "metadata": {},
     "output_type": "execute_result"
    },
    {
     "data": {
      "image/png": "[encoded data removed]",
      "text/plain": [
       "<Figure size 432x288 with 1 Axes>"
      ]
     },
     "metadata": {},
     "output_type": "display_data"
    }
   ],
   "source": [
    "strats = ['returns']  # 19\n",
    "\n",
    "for col in cols:  # 20\n",
    "    strat = 'strategy_%s' % col.split('_')[1]\n",
    "    df[strat] = df[col].shift(1) * df['returns']\n",
    "    strats.append(strat)\n",
    "\n",
    "df[strats].dropna().cumsum().apply(np.exp).plot()"
   ]
  },
  {
   "cell_type": "code",
   "execution_count": 82,
   "metadata": {
    "collapsed": true
   },
   "outputs": [],
   "source": [
    "class MomentumTrader(opy.Streamer):\n",
    "    def __init__(self, momentum, *args, **kwargs):\n",
    "        opy.Streamer.__init__(self, *args, **kwargs)\n",
    "        self.ticks = 0 \n",
    "        self.position = 0 \n",
    "        self.df = pd.DataFrame()  \n",
    "        self.momentum = momentum  \n",
    "        self.units = 100000  \n",
    "    def create_order(self, side, units):  \n",
    "        order = oanda.create_order(config['oanda']['account_id'], \n",
    "            instrument='EUR_USD', units=units, side=side,\n",
    "            type='market')  \n",
    "        print('\\n', order)  \n",
    "    def on_success(self, data):  \n",
    "        self.ticks += 1  \n",
    "        # print(self.ticks, end=', ')\n",
    "        # appends the new tick data to the DataFrame object\n",
    "        self.df = self.df.append(pd.DataFrame(data['tick'],\n",
    "                                 index=[data['tick']['time']]))  \n",
    "        # transforms the time information to a DatetimeIndex object\n",
    "        self.df.index = pd.DatetimeIndex(self.df['time'])  \n",
    "        # resamples the data set to a new, homogeneous interval\n",
    "        dfr = self.df.resample('5s').last()  \n",
    "        # calculates the log returns\n",
    "        dfr['returns'] = np.log(dfr['ask'] / dfr['ask'].shift(1))  \n",
    "        # derives the positioning according to the momentum strategy\n",
    "        dfr['position'] = np.sign(dfr['returns'].rolling( \n",
    "                                      self.momentum).mean())  \n",
    "        if dfr['position'].ix[-1] == 1:  \n",
    "            # go long\n",
    "            if self.position == 0:  \n",
    "                self.create_order('buy', self.units)  \n",
    "            elif self.position == -1:  \n",
    "                self.create_order('buy', self.units * 2)  \n",
    "            self.position = 1  \n",
    "        elif dfr['position'].ix[-1] == -1:  \n",
    "            # go short\n",
    "            if self.position == 0: \n",
    "                self.create_order('sell', self.units)  \n",
    "            elif self.position == 1: \n",
    "                self.create_order('sell', self.units * 2)  \n",
    "            self.position = -1  \n",
    "        if self.ticks == 250:  \n",
    "            # close out the position\n",
    "            if self.position == 1:  \n",
    "                self.create_order('sell', self.units) \n",
    "            elif self.position == -1:  \n",
    "                self.create_order('buy', self.units)\n",
    "            self.disconnect()  "
   ]
  },
  {
   "cell_type": "code",
   "execution_count": 86,
   "metadata": {
    "collapsed": true
   },
   "outputs": [],
   "source": [
    "mt = MomentumTrader(momentum=12, environment='practice',\n",
    "                    access_token=config['oanda']['access_token'])"
   ]
  },
  {
   "cell_type": "code",
   "execution_count": 92,
   "metadata": {},
   "outputs": [
    {
     "ename": "JSONDecodeError",
     "evalue": "Expecting property name enclosed in double quotes: line 1 column 2 (char 1)",
     "output_type": "error",
     "traceback": [
      "\u001b[1;31m---------------------------------------------------------------------------\u001b[0m",
      "\u001b[1;31mJSONDecodeError\u001b[0m                           Traceback (most recent call last)",
      "\u001b[1;32m<ipython-input-92-2b529ca0a7ce>\u001b[0m in \u001b[0;36m<module>\u001b[1;34m\u001b[0m\n\u001b[0;32m      1\u001b[0m mt.rates(account_id=config['oanda']['account_id'],\n\u001b[1;32m----> 2\u001b[1;33m          instruments=[\"DE30_EUR\"], ignore_heartbeat=True)\n\u001b[0m",
      "\u001b[1;32m~\\Anaconda3.1\\lib\\site-packages\\oandapy\\stream\\stream.py\u001b[0m in \u001b[0;36mrates\u001b[1;34m(self, account_id, instruments, **params)\u001b[0m\n\u001b[0;32m     25\u001b[0m         \u001b[0mparams\u001b[0m\u001b[1;33m[\u001b[0m\u001b[1;34m'instruments'\u001b[0m\u001b[1;33m]\u001b[0m \u001b[1;33m=\u001b[0m \u001b[0minstruments\u001b[0m\u001b[1;33m\u001b[0m\u001b[1;33m\u001b[0m\u001b[0m\n\u001b[0;32m     26\u001b[0m         \u001b[0mendpoint\u001b[0m \u001b[1;33m=\u001b[0m \u001b[1;34m'v1/prices'\u001b[0m\u001b[1;33m\u001b[0m\u001b[1;33m\u001b[0m\u001b[0m\n\u001b[1;32m---> 27\u001b[1;33m         \u001b[1;32mreturn\u001b[0m \u001b[0mself\u001b[0m\u001b[1;33m.\u001b[0m\u001b[0mrun\u001b[0m\u001b[1;33m(\u001b[0m\u001b[0mendpoint\u001b[0m\u001b[1;33m,\u001b[0m \u001b[0mparams\u001b[0m\u001b[1;33m=\u001b[0m\u001b[0mparams\u001b[0m\u001b[1;33m)\u001b[0m\u001b[1;33m\u001b[0m\u001b[1;33m\u001b[0m\u001b[0m\n\u001b[0m\u001b[0;32m     28\u001b[0m \u001b[1;33m\u001b[0m\u001b[0m\n\u001b[0;32m     29\u001b[0m     \u001b[1;32mdef\u001b[0m \u001b[0mevents\u001b[0m\u001b[1;33m(\u001b[0m\u001b[0mself\u001b[0m\u001b[1;33m,\u001b[0m \u001b[1;33m**\u001b[0m\u001b[0mparams\u001b[0m\u001b[1;33m)\u001b[0m\u001b[1;33m:\u001b[0m\u001b[1;33m\u001b[0m\u001b[1;33m\u001b[0m\u001b[0m\n",
      "\u001b[1;32m~\\Anaconda3.1\\lib\\site-packages\\oandapy\\stream\\stream.py\u001b[0m in \u001b[0;36mrun\u001b[1;34m(self, endpoint, params)\u001b[0m\n\u001b[0;32m    102\u001b[0m \u001b[1;33m\u001b[0m\u001b[0m\n\u001b[0;32m    103\u001b[0m                 \u001b[1;32mif\u001b[0m \u001b[0mline\u001b[0m\u001b[1;33m:\u001b[0m\u001b[1;33m\u001b[0m\u001b[1;33m\u001b[0m\u001b[0m\n\u001b[1;32m--> 104\u001b[1;33m                     \u001b[0mdata\u001b[0m \u001b[1;33m=\u001b[0m \u001b[0mjson\u001b[0m\u001b[1;33m.\u001b[0m\u001b[0mloads\u001b[0m\u001b[1;33m(\u001b[0m\u001b[0mline\u001b[0m\u001b[1;33m.\u001b[0m\u001b[0mdecode\u001b[0m\u001b[1;33m(\u001b[0m\u001b[1;34m\"utf-8\"\u001b[0m\u001b[1;33m)\u001b[0m\u001b[1;33m)\u001b[0m\u001b[1;33m\u001b[0m\u001b[1;33m\u001b[0m\u001b[0m\n\u001b[0m\u001b[0;32m    105\u001b[0m                     \u001b[1;32mif\u001b[0m \u001b[1;32mnot\u001b[0m \u001b[1;33m(\u001b[0m\u001b[0mignore_heartbeat\u001b[0m \u001b[1;32mand\u001b[0m \u001b[1;34m\"heartbeat\"\u001b[0m \u001b[1;32min\u001b[0m \u001b[0mdata\u001b[0m\u001b[1;33m)\u001b[0m\u001b[1;33m:\u001b[0m\u001b[1;33m\u001b[0m\u001b[1;33m\u001b[0m\u001b[0m\n\u001b[0;32m    106\u001b[0m                         \u001b[0mself\u001b[0m\u001b[1;33m.\u001b[0m\u001b[0mon_success\u001b[0m\u001b[1;33m(\u001b[0m\u001b[0mdata\u001b[0m\u001b[1;33m)\u001b[0m\u001b[1;33m\u001b[0m\u001b[1;33m\u001b[0m\u001b[0m\n",
      "\u001b[1;32m~\\Anaconda3.1\\lib\\json\\__init__.py\u001b[0m in \u001b[0;36mloads\u001b[1;34m(s, encoding, cls, object_hook, parse_float, parse_int, parse_constant, object_pairs_hook, **kw)\u001b[0m\n\u001b[0;32m    352\u001b[0m             \u001b[0mparse_int\u001b[0m \u001b[1;32mis\u001b[0m \u001b[1;32mNone\u001b[0m \u001b[1;32mand\u001b[0m \u001b[0mparse_float\u001b[0m \u001b[1;32mis\u001b[0m \u001b[1;32mNone\u001b[0m \u001b[1;32mand\u001b[0m\u001b[1;33m\u001b[0m\u001b[1;33m\u001b[0m\u001b[0m\n\u001b[0;32m    353\u001b[0m             parse_constant is None and object_pairs_hook is None and not kw):\n\u001b[1;32m--> 354\u001b[1;33m         \u001b[1;32mreturn\u001b[0m \u001b[0m_default_decoder\u001b[0m\u001b[1;33m.\u001b[0m\u001b[0mdecode\u001b[0m\u001b[1;33m(\u001b[0m\u001b[0ms\u001b[0m\u001b[1;33m)\u001b[0m\u001b[1;33m\u001b[0m\u001b[1;33m\u001b[0m\u001b[0m\n\u001b[0m\u001b[0;32m    355\u001b[0m     \u001b[1;32mif\u001b[0m \u001b[0mcls\u001b[0m \u001b[1;32mis\u001b[0m \u001b[1;32mNone\u001b[0m\u001b[1;33m:\u001b[0m\u001b[1;33m\u001b[0m\u001b[1;33m\u001b[0m\u001b[0m\n\u001b[0;32m    356\u001b[0m         \u001b[0mcls\u001b[0m \u001b[1;33m=\u001b[0m \u001b[0mJSONDecoder\u001b[0m\u001b[1;33m\u001b[0m\u001b[1;33m\u001b[0m\u001b[0m\n",
      "\u001b[1;32m~\\Anaconda3.1\\lib\\json\\decoder.py\u001b[0m in \u001b[0;36mdecode\u001b[1;34m(self, s, _w)\u001b[0m\n\u001b[0;32m    337\u001b[0m \u001b[1;33m\u001b[0m\u001b[0m\n\u001b[0;32m    338\u001b[0m         \"\"\"\n\u001b[1;32m--> 339\u001b[1;33m         \u001b[0mobj\u001b[0m\u001b[1;33m,\u001b[0m \u001b[0mend\u001b[0m \u001b[1;33m=\u001b[0m \u001b[0mself\u001b[0m\u001b[1;33m.\u001b[0m\u001b[0mraw_decode\u001b[0m\u001b[1;33m(\u001b[0m\u001b[0ms\u001b[0m\u001b[1;33m,\u001b[0m \u001b[0midx\u001b[0m\u001b[1;33m=\u001b[0m\u001b[0m_w\u001b[0m\u001b[1;33m(\u001b[0m\u001b[0ms\u001b[0m\u001b[1;33m,\u001b[0m \u001b[1;36m0\u001b[0m\u001b[1;33m)\u001b[0m\u001b[1;33m.\u001b[0m\u001b[0mend\u001b[0m\u001b[1;33m(\u001b[0m\u001b[1;33m)\u001b[0m\u001b[1;33m)\u001b[0m\u001b[1;33m\u001b[0m\u001b[1;33m\u001b[0m\u001b[0m\n\u001b[0m\u001b[0;32m    340\u001b[0m         \u001b[0mend\u001b[0m \u001b[1;33m=\u001b[0m \u001b[0m_w\u001b[0m\u001b[1;33m(\u001b[0m\u001b[0ms\u001b[0m\u001b[1;33m,\u001b[0m \u001b[0mend\u001b[0m\u001b[1;33m)\u001b[0m\u001b[1;33m.\u001b[0m\u001b[0mend\u001b[0m\u001b[1;33m(\u001b[0m\u001b[1;33m)\u001b[0m\u001b[1;33m\u001b[0m\u001b[1;33m\u001b[0m\u001b[0m\n\u001b[0;32m    341\u001b[0m         \u001b[1;32mif\u001b[0m \u001b[0mend\u001b[0m \u001b[1;33m!=\u001b[0m \u001b[0mlen\u001b[0m\u001b[1;33m(\u001b[0m\u001b[0ms\u001b[0m\u001b[1;33m)\u001b[0m\u001b[1;33m:\u001b[0m\u001b[1;33m\u001b[0m\u001b[1;33m\u001b[0m\u001b[0m\n",
      "\u001b[1;32m~\\Anaconda3.1\\lib\\json\\decoder.py\u001b[0m in \u001b[0;36mraw_decode\u001b[1;34m(self, s, idx)\u001b[0m\n\u001b[0;32m    353\u001b[0m         \"\"\"\n\u001b[0;32m    354\u001b[0m         \u001b[1;32mtry\u001b[0m\u001b[1;33m:\u001b[0m\u001b[1;33m\u001b[0m\u001b[1;33m\u001b[0m\u001b[0m\n\u001b[1;32m--> 355\u001b[1;33m             \u001b[0mobj\u001b[0m\u001b[1;33m,\u001b[0m \u001b[0mend\u001b[0m \u001b[1;33m=\u001b[0m \u001b[0mself\u001b[0m\u001b[1;33m.\u001b[0m\u001b[0mscan_once\u001b[0m\u001b[1;33m(\u001b[0m\u001b[0ms\u001b[0m\u001b[1;33m,\u001b[0m \u001b[0midx\u001b[0m\u001b[1;33m)\u001b[0m\u001b[1;33m\u001b[0m\u001b[1;33m\u001b[0m\u001b[0m\n\u001b[0m\u001b[0;32m    356\u001b[0m         \u001b[1;32mexcept\u001b[0m \u001b[0mStopIteration\u001b[0m \u001b[1;32mas\u001b[0m \u001b[0merr\u001b[0m\u001b[1;33m:\u001b[0m\u001b[1;33m\u001b[0m\u001b[1;33m\u001b[0m\u001b[0m\n\u001b[0;32m    357\u001b[0m             \u001b[1;32mraise\u001b[0m \u001b[0mJSONDecodeError\u001b[0m\u001b[1;33m(\u001b[0m\u001b[1;34m\"Expecting value\"\u001b[0m\u001b[1;33m,\u001b[0m \u001b[0ms\u001b[0m\u001b[1;33m,\u001b[0m \u001b[0merr\u001b[0m\u001b[1;33m.\u001b[0m\u001b[0mvalue\u001b[0m\u001b[1;33m)\u001b[0m \u001b[1;32mfrom\u001b[0m \u001b[1;32mNone\u001b[0m\u001b[1;33m\u001b[0m\u001b[1;33m\u001b[0m\u001b[0m\n",
      "\u001b[1;31mJSONDecodeError\u001b[0m: Expecting property name enclosed in double quotes: line 1 column 2 (char 1)"
     ]
    }
   ],
   "source": [
    "mt.rates(account_id=config['oanda']['account_id'],\n",
    "         instruments=[\"DE30_EUR\"], ignore_heartbeat=True)"
   ]
  },
  {
   "cell_type": "code",
   "execution_count": null,
   "metadata": {
    "collapsed": true
   },
   "outputs": [],
   "source": []
  }
 ],
 "metadata": {
  "kernelspec": {
   "display_name": "Python 3",
   "language": "python",
   "name": "python3"
  },
  "language_info": {
   "codemirror_mode": {
    "name": "ipython",
    "version": 3
   },
   "file_extension": ".py",
   "mimetype": "text/x-python",
   "name": "python",
   "nbconvert_exporter": "python",
   "pygments_lexer": "ipython3",
   "version": "3.6.1"
  }
 },
 "nbformat": 4,
 "nbformat_minor": 2
}
