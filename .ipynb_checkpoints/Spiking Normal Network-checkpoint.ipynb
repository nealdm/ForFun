{
 "cells": [
  {
   "cell_type": "code",
   "execution_count": 65,
   "metadata": {},
   "outputs": [],
   "source": [
    "from __future__ import print_function, division\n",
    "import os\n",
    "# import torch\n",
    "import pandas as pd\n",
    "# from skimage import io, transform\n",
    "import numpy as np\n",
    "import matplotlib.pyplot as plt\n",
    "# from torch.utils.data import Dataset, DataLoader\n",
    "# from torchvision import transforms, utils\n",
    "# from torch.utils.data import Dataset, DataLoader\n",
    "import json\n",
    "from PIL import Image\n",
    "\n",
    "# Ignore warnings\n",
    "import warnings\n",
    "warnings.filterwarnings(\"ignore\")\n",
    "\n",
    "plt.ion()   # interactive mode"
   ]
  },
  {
   "cell_type": "code",
   "execution_count": 200,
   "metadata": {},
   "outputs": [],
   "source": [
    "class node:\n",
    "    def __init__(self, name = None, layers = 3, level = 0, nextnodes = []):\n",
    "        '''\n",
    "        Attributes:\n",
    "        layers (int) :    represents the number of 'firing layers'  the node will have available to it.\n",
    "        level (int) :     represents which layer the node is currently on\n",
    "        nextnodes (list): holds the list of all the neurons to which this neuron is connected.  it can hold itself.\n",
    "        just_fired (bool):represents whether the node just fired or not\n",
    "        name (str):       the name of the node (if you want to name it)\n",
    "        \n",
    "        Paramaters:\n",
    "        layers (int):     determines how many 'layers-till-fire' the particular node will have   \n",
    "        name (str):       the name of the node (if you want to name it)\n",
    "        '''\n",
    "        self.name = name\n",
    "        self.layers = layers\n",
    "        self.level = level\n",
    "        self.nextnodes = nextnodes\n",
    "        self.just_fired = False\n",
    "        \n",
    "     \n",
    "    def levelup_or_fire(self):\n",
    "        '''bring the firing level up one'''\n",
    "        if self.level == self.layers:\n",
    "            self.fire()\n",
    "            return\n",
    "        else:\n",
    "            self.level += 1\n",
    "            \n",
    "    def fire(self):\n",
    "        self.just_fired = True\n",
    "        for child_node in nextnodes:\n",
    "            child_node.levelup_or_fire()        \n",
    "        \n",
    "    def leveldown(self):\n",
    "        '''Bring the firinglevel down'''\n",
    "        self.just_fired = False\n",
    "        if self.level == 0:\n",
    "            return\n",
    "        else:\n",
    "            self.level -= 1\n",
    "            \n",
    "    def newchildren(self,childrenlist):\n",
    "        ''' used to start off a fresh children list.'''\n",
    "        self.nextnodes = childrenlist\n",
    "        \n",
    "            \n",
    "    def __str__(self):\n",
    "        name = \"name: {}\".format(self.name)\n",
    "        layers = \"layers: {}\".format(self.layers)\n",
    "        level = \"level val: {}\".format(self.level)\n",
    "        return name + \"\\n\" + layers + \"\\n\" + level\n",
    "        \n",
    "    def __repr__(self):\n",
    "        name = \"name: {}\".format(self.name)\n",
    "        layers = \"layers: {}\".format(self.layers)\n",
    "        level = \"level val: {}\".format(self.level)\n",
    "        kids = \"Numkids: {}\".format(len(self.nextnodes))\n",
    "        return name + \"\\n\" + layers + \"\\n\" + level + \"\\n\" + kids + \"\\n\"\n",
    "    \n",
    "    \n",
    "\n",
    "class network:\n",
    "    def __init__(self,nodenames, nodelayers, nodelevels, connection_matrix):\n",
    "        '''\n",
    "        Attributes:\n",
    "        nodenames (list):               list of all the names of the nodes (as strings)\n",
    "        connection_matrix (ndarray):    adjacency matrix of how the nodes are connected (it's a directed graph)\n",
    "        nodelist (list):                list of all the nodes themselves\n",
    "        nodelayers (list):              list of the number of layers each node is to have\n",
    "        nodelevels (list):              list of which level each node is to be at\n",
    "        \n",
    "        \n",
    "        Paramaters:\n",
    "        nodenames (list):               list of all the names of the nodes (as strings)\n",
    "        connection_matrix (ndarray):    adjacency matrix of how the nodes are connected (it's a directed graph)\n",
    "        nodelayers (list):              list of the number of layers each node is to have\n",
    "        nodelevels (list):              list of which level each node is to be at\n",
    "        \n",
    "        '''\n",
    "        self.nodenames = nodenames\n",
    "        self.connection_matrix = connection_matrix\n",
    "        self.nodelist = []\n",
    "        self.create_connections(nodenames, nodelayers, nodelevels)\n",
    "        self.node_dic = dict(zip(self.nodenames,self.nodelist))\n",
    "        \n",
    "    \n",
    "    def __str__(self):\n",
    "        nodenames = \"nodenames: {}\".format(self.nodenames)\n",
    "        connection_matrix = \"connection_matrix: {}\".format(self.connection_matrix)\n",
    "        return nodenames + \"\\n\" + connection_matrix\n",
    "        \n",
    "    def __repr__(self):\n",
    "        nodenames = \"nodenames: {}\".format(self.nodenames)\n",
    "        connection_matrix = \"connection_matrix: {}\".format(self.connection_matrix)\n",
    "        return nodenames + \"\\n\" + connection_matrix\n",
    "    \n",
    "    def create_connections(self, nodenames, nodelayers, nodelevels):\n",
    "        # create the nodes first and put them in the nodelist\n",
    "        for name,layer,levels in zip(nodenames,nodelayers,nodelevels):\n",
    "            self.nodelist.append(node(name,layer,levels))\n",
    "        # now go through the nodelist and give each node it's appropriate child connections\n",
    "        connect = self.connection_matrix\n",
    "        for i, node_i in enumerate(self.nodelist):\n",
    "            nl = np.ma.masked_array(self.nodelist, mask=[connect[i]>0])\n",
    "            children_nodes = self.nodelist[~nl.mask]\n",
    "            print('\\n children stuff: {}'.format(self.nodelist[~nl.mask]))\n",
    "            node_i.newchildren(children_nodes)\n",
    "            \n",
    "            \n",
    "        \n",
    "        "
   ]
  },
  {
   "cell_type": "code",
   "execution_count": 201,
   "metadata": {},
   "outputs": [
    {
     "data": {
      "text/plain": [
       "0"
      ]
     },
     "execution_count": 201,
     "metadata": {},
     "output_type": "execute_result"
    }
   ],
   "source": [
    "n = node(3)\n",
    "m = node(3)\n",
    "o = node(3)\n",
    "n.level"
   ]
  },
  {
   "cell_type": "code",
   "execution_count": 202,
   "metadata": {},
   "outputs": [
    {
     "name": "stdout",
     "output_type": "stream",
     "text": [
      "name: 3\n",
      "layers: 3\n",
      "level val: 0\n",
      "name: 3\n",
      "layers: 3\n",
      "level val: 1\n",
      "name: 3\n",
      "layers: 3\n",
      "level val: 2\n",
      "name: 3\n",
      "layers: 3\n",
      "level val: 3\n",
      "name: 3\n",
      "layers: 3\n",
      "level val: 2\n"
     ]
    }
   ],
   "source": [
    "print(n)\n",
    "n.levelup_or_fire()\n",
    "print(n)\n",
    "n.levelup_or_fire()\n",
    "print(n)\n",
    "n.levelup_or_fire()\n",
    "print(n)\n",
    "n.leveldown()\n",
    "print(n)"
   ]
  },
  {
   "cell_type": "code",
   "execution_count": 203,
   "metadata": {},
   "outputs": [
    {
     "ename": "TypeError",
     "evalue": "only integer scalar arrays can be converted to a scalar index",
     "output_type": "error",
     "traceback": [
      "\u001b[1;31m---------------------------------------------------------------------------\u001b[0m",
      "\u001b[1;31mTypeError\u001b[0m                                 Traceback (most recent call last)",
      "\u001b[1;32m<ipython-input-203-203455693c7e>\u001b[0m in \u001b[0;36m<module>\u001b[1;34m()\u001b[0m\n\u001b[0;32m      4\u001b[0m connect = np.block([[np.zeros((3, 3)), np.ones((3, 3))],\n\u001b[0;32m      5\u001b[0m           [np.ones((3, 3)), np.zeros((3, 3))]])\n\u001b[1;32m----> 6\u001b[1;33m \u001b[0mN\u001b[0m \u001b[1;33m=\u001b[0m \u001b[0mnetwork\u001b[0m\u001b[1;33m(\u001b[0m\u001b[0mnodenames\u001b[0m\u001b[1;33m,\u001b[0m\u001b[0mnodelayers\u001b[0m\u001b[1;33m,\u001b[0m\u001b[0mnodelevels\u001b[0m\u001b[1;33m,\u001b[0m\u001b[0mconnect\u001b[0m\u001b[1;33m)\u001b[0m\u001b[1;33m\u001b[0m\u001b[0m\n\u001b[0m",
      "\u001b[1;32m<ipython-input-200-fab7da425b8f>\u001b[0m in \u001b[0;36m__init__\u001b[1;34m(self, nodenames, nodelayers, nodelevels, connection_matrix)\u001b[0m\n\u001b[0;32m     82\u001b[0m         \u001b[0mself\u001b[0m\u001b[1;33m.\u001b[0m\u001b[0mconnection_matrix\u001b[0m \u001b[1;33m=\u001b[0m \u001b[0mconnection_matrix\u001b[0m\u001b[1;33m\u001b[0m\u001b[0m\n\u001b[0;32m     83\u001b[0m         \u001b[0mself\u001b[0m\u001b[1;33m.\u001b[0m\u001b[0mnodelist\u001b[0m \u001b[1;33m=\u001b[0m \u001b[1;33m[\u001b[0m\u001b[1;33m]\u001b[0m\u001b[1;33m\u001b[0m\u001b[0m\n\u001b[1;32m---> 84\u001b[1;33m         \u001b[0mself\u001b[0m\u001b[1;33m.\u001b[0m\u001b[0mcreate_connections\u001b[0m\u001b[1;33m(\u001b[0m\u001b[0mnodenames\u001b[0m\u001b[1;33m,\u001b[0m \u001b[0mnodelayers\u001b[0m\u001b[1;33m,\u001b[0m \u001b[0mnodelevels\u001b[0m\u001b[1;33m)\u001b[0m\u001b[1;33m\u001b[0m\u001b[0m\n\u001b[0m\u001b[0;32m     85\u001b[0m         \u001b[0mself\u001b[0m\u001b[1;33m.\u001b[0m\u001b[0mnode_dic\u001b[0m \u001b[1;33m=\u001b[0m \u001b[0mdict\u001b[0m\u001b[1;33m(\u001b[0m\u001b[0mzip\u001b[0m\u001b[1;33m(\u001b[0m\u001b[0mself\u001b[0m\u001b[1;33m.\u001b[0m\u001b[0mnodenames\u001b[0m\u001b[1;33m,\u001b[0m\u001b[0mself\u001b[0m\u001b[1;33m.\u001b[0m\u001b[0mnodelist\u001b[0m\u001b[1;33m)\u001b[0m\u001b[1;33m)\u001b[0m\u001b[1;33m\u001b[0m\u001b[0m\n\u001b[0;32m     86\u001b[0m \u001b[1;33m\u001b[0m\u001b[0m\n",
      "\u001b[1;32m<ipython-input-200-fab7da425b8f>\u001b[0m in \u001b[0;36mcreate_connections\u001b[1;34m(self, nodenames, nodelayers, nodelevels)\u001b[0m\n\u001b[0;32m    104\u001b[0m         \u001b[1;32mfor\u001b[0m \u001b[0mi\u001b[0m\u001b[1;33m,\u001b[0m \u001b[0mnode_i\u001b[0m \u001b[1;32min\u001b[0m \u001b[0menumerate\u001b[0m\u001b[1;33m(\u001b[0m\u001b[0mself\u001b[0m\u001b[1;33m.\u001b[0m\u001b[0mnodelist\u001b[0m\u001b[1;33m)\u001b[0m\u001b[1;33m:\u001b[0m\u001b[1;33m\u001b[0m\u001b[0m\n\u001b[0;32m    105\u001b[0m             \u001b[0mnl\u001b[0m \u001b[1;33m=\u001b[0m \u001b[0mnp\u001b[0m\u001b[1;33m.\u001b[0m\u001b[0mma\u001b[0m\u001b[1;33m.\u001b[0m\u001b[0mmasked_array\u001b[0m\u001b[1;33m(\u001b[0m\u001b[0mself\u001b[0m\u001b[1;33m.\u001b[0m\u001b[0mnodelist\u001b[0m\u001b[1;33m,\u001b[0m \u001b[0mmask\u001b[0m\u001b[1;33m=\u001b[0m\u001b[1;33m[\u001b[0m\u001b[0mconnect\u001b[0m\u001b[1;33m[\u001b[0m\u001b[0mi\u001b[0m\u001b[1;33m]\u001b[0m\u001b[1;33m>\u001b[0m\u001b[1;36m0\u001b[0m\u001b[1;33m]\u001b[0m\u001b[1;33m)\u001b[0m\u001b[1;33m\u001b[0m\u001b[0m\n\u001b[1;32m--> 106\u001b[1;33m             \u001b[0mchildren_nodes\u001b[0m \u001b[1;33m=\u001b[0m \u001b[0mself\u001b[0m\u001b[1;33m.\u001b[0m\u001b[0mnodelist\u001b[0m\u001b[1;33m[\u001b[0m\u001b[1;33m~\u001b[0m\u001b[0mnl\u001b[0m\u001b[1;33m.\u001b[0m\u001b[0mmask\u001b[0m\u001b[1;33m]\u001b[0m\u001b[1;33m\u001b[0m\u001b[0m\n\u001b[0m\u001b[0;32m    107\u001b[0m             \u001b[0mprint\u001b[0m\u001b[1;33m(\u001b[0m\u001b[1;34m'\\n children stuff: {}'\u001b[0m\u001b[1;33m.\u001b[0m\u001b[0mformat\u001b[0m\u001b[1;33m(\u001b[0m\u001b[0mself\u001b[0m\u001b[1;33m.\u001b[0m\u001b[0mnodelist\u001b[0m\u001b[1;33m[\u001b[0m\u001b[1;33m~\u001b[0m\u001b[0mnl\u001b[0m\u001b[1;33m.\u001b[0m\u001b[0mmask\u001b[0m\u001b[1;33m]\u001b[0m\u001b[1;33m)\u001b[0m\u001b[1;33m)\u001b[0m\u001b[1;33m\u001b[0m\u001b[0m\n\u001b[0;32m    108\u001b[0m             \u001b[0mnode_i\u001b[0m\u001b[1;33m.\u001b[0m\u001b[0mnewchildren\u001b[0m\u001b[1;33m(\u001b[0m\u001b[0mchildren_nodes\u001b[0m\u001b[1;33m)\u001b[0m\u001b[1;33m\u001b[0m\u001b[0m\n",
      "\u001b[1;31mTypeError\u001b[0m: only integer scalar arrays can be converted to a scalar index"
     ]
    }
   ],
   "source": [
    "nodenames = np.array([\"A\",'B','C','a','b','c'])\n",
    "nodelayers = np.ones(6)*3\n",
    "nodelevels = np.zeros(6)\n",
    "connect = np.block([[np.zeros((3, 3)), np.ones((3, 3))],\n",
    "          [np.ones((3, 3)), np.zeros((3, 3))]])\n",
    "N = network(nodenames,nodelayers,nodelevels,connect)"
   ]
  },
  {
   "cell_type": "code",
   "execution_count": 138,
   "metadata": {},
   "outputs": [
    {
     "data": {
      "text/plain": [
       "array([[ 1,  2,  3,  4],\n",
       "       [15,  6,  7,  8]])"
      ]
     },
     "execution_count": 138,
     "metadata": {},
     "output_type": "execute_result"
    }
   ],
   "source": [
    "nodelist = np.array([[1,2,3,4],[15,6,7,8]])\n",
    "connect = [0,1,1,0]\n",
    "for i, node_i in enumerate(nodelist):\n",
    "        children_nodes = nodelist[i][connect[i]>0]\n",
    "        node_i = children_nodes -10\n",
    "\n",
    "nodelist        "
   ]
  },
  {
   "cell_type": "code",
   "execution_count": 116,
   "metadata": {},
   "outputs": [
    {
     "data": {
      "text/plain": [
       "array([1., 1., 1., 1.])"
      ]
     },
     "execution_count": 116,
     "metadata": {},
     "output_type": "execute_result"
    }
   ],
   "source": [
    "np.ones(4)"
   ]
  },
  {
   "cell_type": "code",
   "execution_count": 191,
   "metadata": {},
   "outputs": [
    {
     "data": {
      "text/plain": [
       "[name: A\n",
       " layers: 3.0\n",
       " level val: 0.0\n",
       " Numkids: 6, name: B\n",
       " layers: 3.0\n",
       " level val: 0.0\n",
       " Numkids: 6, name: C\n",
       " layers: 3.0\n",
       " level val: 0.0\n",
       " Numkids: 6, name: a\n",
       " layers: 3.0\n",
       " level val: 0.0\n",
       " Numkids: 6, name: b\n",
       " layers: 3.0\n",
       " level val: 0.0\n",
       " Numkids: 6, name: c\n",
       " layers: 3.0\n",
       " level val: 0.0\n",
       " Numkids: 6]"
      ]
     },
     "execution_count": 191,
     "metadata": {},
     "output_type": "execute_result"
    }
   ],
   "source": [
    "N.nodelist"
   ]
  },
  {
   "cell_type": "code",
   "execution_count": null,
   "metadata": {
    "collapsed": true
   },
   "outputs": [],
   "source": []
  }
 ],
 "metadata": {
  "kernelspec": {
   "display_name": "Python 3",
   "language": "python",
   "name": "python3"
  },
  "language_info": {
   "codemirror_mode": {
    "name": "ipython",
    "version": 3
   },
   "file_extension": ".py",
   "mimetype": "text/x-python",
   "name": "python",
   "nbconvert_exporter": "python",
   "pygments_lexer": "ipython3",
   "version": "3.6.1"
  }
 },
 "nbformat": 4,
 "nbformat_minor": 2
}
